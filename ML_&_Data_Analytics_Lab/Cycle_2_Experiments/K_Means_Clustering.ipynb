{
  "nbformat": 4,
  "nbformat_minor": 0,
  "metadata": {
    "colab": {
      "name": "K-Means.ipynb",
      "provenance": [],
      "collapsed_sections": []
    },
    "kernelspec": {
      "name": "python3",
      "display_name": "Python 3"
    },
    "language_info": {
      "name": "python"
    }
  },
  "cells": [
    {
      "cell_type": "markdown",
      "source": [
        "### **K-Means Clustering Algorithm**"
      ],
      "metadata": {
        "id": "I9AwZsgOzm6M"
      }
    },
    {
      "cell_type": "code",
      "source": [
        "import matplotlib.pyplot as plt\n",
        "import numpy as np"
      ],
      "metadata": {
        "id": "NegF2d8B0SxK"
      },
      "execution_count": 1,
      "outputs": []
    },
    {
      "cell_type": "code",
      "source": [
        "class k_meanalg:\n",
        "    def __init__(self):\n",
        "        self.m1=None\n",
        "        self.m2=None\n",
        "        self.c1,self.c2,self.nc1,self.nc2=[],[],[],[]\n",
        "        self.pts={}\n",
        "        self.err=0\n",
        "    def error(self):\n",
        "        e1=0\n",
        "        e2=0\n",
        "        for i in self.c1:\n",
        "            e1+=((i[0]-self.m1[0])**2+(i[1]-self.m1[1])**2)\n",
        "        for i in self.c2:\n",
        "            e2+=((i[0]-self.m2[0])**2+(i[1]-self.m2[1])**2)\n",
        "        return (e1+e2)    \n",
        "    def fitting(self,c1,c2,*args):\n",
        "        def mean(cl):\n",
        "            n=len(cl)\n",
        "            a=0\n",
        "            b=0\n",
        "            for i in cl:\n",
        "                a+=i[0]/n\n",
        "                b+=i[1]/n\n",
        "            return [a,b]\n",
        "        def dist(a,b):\n",
        "            return ((a[0]-b[0])**2+(a[1]-b[1])**2)**(1/2)\n",
        "        self.c1=c1\n",
        "        self.c2=c2\n",
        "        _con=1\n",
        "        for i in args:\n",
        "            self.pts['x'+str(_con)]=i\n",
        "            _con+=1\n",
        "        epo=1\n",
        "        while(True):\n",
        "            self.m1=mean(self.c1)\n",
        "            self.m2=mean(self.c2)\n",
        "            for i in args:\n",
        "                p=dist(i,self.m1)\n",
        "                q=dist(i,self.m2)\n",
        "                if(p>q):\n",
        "                    self.nc2.append(i)\n",
        "                else:\n",
        "                    self.nc1.append(i)\n",
        "            print('After Epoch',epo,' ERROR:',self.error())\n",
        "            epo+=1\n",
        "            if(self.c1==self.nc1 and self.c2==self.nc2):\n",
        "                break\n",
        "            else:\n",
        "                self.c1,self.c2=self.nc1.copy(),self.nc2.copy()\n",
        "                self.nc1,self.nc2=[],[]\n",
        "        for i,j in sorted(self.pts.items()):\n",
        "            for k in range(len(self.c1)):\n",
        "                if(j==self.c1[k]):\n",
        "                    self.c1[k]=i\n",
        "            for l in range(len(self.c2)):\n",
        "                if(j==self.c2[l]):\n",
        "                    self.c2[l]=i\n",
        "    def display(self):\n",
        "        print(\"Cluster 1:\",self.c1,\"\\nCluster 2:\",self.c2)"
      ],
      "metadata": {
        "id": "gR8VSHxnzfm3"
      },
      "execution_count": 2,
      "outputs": []
    },
    {
      "cell_type": "code",
      "source": [
        ""
      ],
      "metadata": {
        "id": "DAOG6FDJ1Noe"
      },
      "execution_count": 2,
      "outputs": []
    },
    {
      "cell_type": "markdown",
      "source": [
        "**PROBLEM 1**"
      ],
      "metadata": {
        "id": "hhVhzkZy1OXo"
      }
    },
    {
      "cell_type": "code",
      "source": [
        "x1=[1,0]\n",
        "x2=[0,1]\n",
        "x3=[2,1]\n",
        "x4=[3,3]\n",
        "c1=[x1,x3]\n",
        "c2=[x2,x4]\n",
        "model=k_meanalg()\n",
        "model.fitting(c1,c2,x1,x2,x3,x4)\n",
        "print(\"Data Objects:\")\n",
        "for i in sorted(model.pts.items()):\n",
        "  print(i)\n",
        "model.display()"
      ],
      "metadata": {
        "colab": {
          "base_uri": "https://localhost:8080/"
        },
        "id": "GWO8T2l10QKl",
        "outputId": "d7937be0-6ccf-482b-99f1-fee2aaf65ff5"
      },
      "execution_count": 3,
      "outputs": [
        {
          "output_type": "stream",
          "name": "stdout",
          "text": [
            "After Epoch 1  ERROR: 7.5\n",
            "After Epoch 2  ERROR: 2.666666666666667\n",
            "Data Objects:\n",
            "('x1', [1, 0])\n",
            "('x2', [0, 1])\n",
            "('x3', [2, 1])\n",
            "('x4', [3, 3])\n",
            "Cluster 1: ['x1', 'x2', 'x3'] \n",
            "Cluster 2: ['x4']\n"
          ]
        }
      ]
    },
    {
      "cell_type": "code",
      "source": [
        "p=[model.pts[i] for i in model.c1]\n",
        "p2=[model.pts[i] for i in model.c2]\n",
        "x=[]\n",
        "y=[]\n",
        "for i in p:\n",
        "  x.append(i[0])\n",
        "  y.append(i[1])\n",
        "plt.scatter(x,y,c='b',label='Cluster 1')\n",
        "x=[]\n",
        "y=[]\n",
        "for i in p2:\n",
        "  x.append(i[0])\n",
        "  y.append(i[1])\n",
        "plt.scatter(x,y,c='r',label='Cluster 2')\n",
        "plt.legend()\n",
        "plt.show()"
      ],
      "metadata": {
        "colab": {
          "base_uri": "https://localhost:8080/",
          "height": 265
        },
        "id": "sGJMnl0o0fjd",
        "outputId": "26271707-ae35-4d42-b399-c17053b6c600"
      },
      "execution_count": 4,
      "outputs": [
        {
          "output_type": "display_data",
          "data": {
            "text/plain": [
              "<Figure size 432x288 with 1 Axes>"
            ],
            "image/png": "[encoded data removed]"
          },
          "metadata": {
            "needs_background": "light"
          }
        }
      ]
    },
    {
      "cell_type": "code",
      "source": [
        ""
      ],
      "metadata": {
        "id": "m3MTBorq78lG"
      },
      "execution_count": null,
      "outputs": []
    },
    {
      "cell_type": "markdown",
      "source": [
        "**PROBLEM 2**"
      ],
      "metadata": {
        "id": "ZO2EEavf79FO"
      }
    },
    {
      "cell_type": "code",
      "source": [
        "x_1=[1,1]\n",
        "x_2=[2,1]\n",
        "x_3=[2,3]\n",
        "x_4=[3,2]\n",
        "x_5=[4,3]\n",
        "x_6=[5,5]\n",
        "c_1=[x_2]\n",
        "c_2=[x_3]\n",
        "model_1=k_meanalg()\n",
        "model_1.fitting(c_1,c_2,x_1,x_2,x_3,x_4,x_5,x_6)\n",
        "print(\"Data Objects:\")\n",
        "for i in sorted(model_1.pts.items()):\n",
        "  print(i)\n",
        "model_1.display()"
      ],
      "metadata": {
        "colab": {
          "base_uri": "https://localhost:8080/"
        },
        "id": "SblLQ5x80nOb",
        "outputId": "ace772aa-42cb-4db6-e4df-6382837eaa16"
      },
      "execution_count": 5,
      "outputs": [
        {
          "output_type": "stream",
          "name": "stdout",
          "text": [
            "After Epoch 1  ERROR: 0.0\n",
            "After Epoch 2  ERROR: 10.0\n",
            "After Epoch 3  ERROR: 7.25\n",
            "Data Objects:\n",
            "('x1', [1, 1])\n",
            "('x2', [2, 1])\n",
            "('x3', [2, 3])\n",
            "('x4', [3, 2])\n",
            "('x5', [4, 3])\n",
            "('x6', [5, 5])\n",
            "Cluster 1: ['x1', 'x2', 'x3', 'x4'] \n",
            "Cluster 2: ['x5', 'x6']\n"
          ]
        }
      ]
    },
    {
      "cell_type": "code",
      "source": [
        "p=[model_1.pts[i] for i in model_1.c1]\n",
        "p2=[model_1.pts[i] for i in model_1.c2]\n",
        "x=[]\n",
        "y=[]\n",
        "for i in p:\n",
        "  x.append(i[0])\n",
        "  y.append(i[1])\n",
        "plt.scatter(x,y,c='b',label='Cluster 1')\n",
        "x=[]\n",
        "y=[]\n",
        "for i in p2:\n",
        "  x.append(i[0])\n",
        "  y.append(i[1])\n",
        "plt.scatter(x,y,c='r',label='Cluster 2')\n",
        "plt.legend()\n",
        "plt.show()"
      ],
      "metadata": {
        "colab": {
          "base_uri": "https://localhost:8080/",
          "height": 265
        },
        "id": "ICV50ZkT0pjK",
        "outputId": "bbfc8c1e-6348-4649-fd2c-ae7d4322819e"
      },
      "execution_count": 6,
      "outputs": [
        {
          "output_type": "display_data",
          "data": {
            "text/plain": [
              "<Figure size 432x288 with 1 Axes>"
            ],
            "image/png": "[encoded data removed]"
          },
          "metadata": {
            "needs_background": "light"
          }
        }
      ]
    },
    {
      "cell_type": "code",
      "source": [
        ""
      ],
      "metadata": {
        "id": "pWYWXitI1Umi"
      },
      "execution_count": 6,
      "outputs": []
    },
    {
      "cell_type": "markdown",
      "source": [
        "**PROBLEM 3**"
      ],
      "metadata": {
        "id": "J-N_GY9Q1i9w"
      }
    },
    {
      "cell_type": "code",
      "source": [
        "x1=[2,10]\n",
        "x2=[2,5]\n",
        "x3=[8,4]\n",
        "x4=[5,8]\n",
        "x5=[7,5]\n",
        "x6=[6,4]\n",
        "x7=[1,2]\n",
        "x8=[4,9]\n",
        "c1=[x1]\n",
        "c2=[x2]\n",
        "model_3=k_meanalg()\n",
        "model_3.fitting(c1,c2,x1,x2,x3,x4,x5,x6,x7,x8)\n",
        "print(\"Data Objects:\")\n",
        "for i in sorted(model_3.pts.items()):\n",
        "  print(i)\n",
        "model_3.display()"
      ],
      "metadata": {
        "colab": {
          "base_uri": "https://localhost:8080/"
        },
        "id": "5lTRqu772MD9",
        "outputId": "342f1c28-7e17-4a24-d1a0-112fe26b6893"
      },
      "execution_count": 7,
      "outputs": [
        {
          "output_type": "stream",
          "name": "stdout",
          "text": [
            "After Epoch 1  ERROR: 0.0\n",
            "After Epoch 2  ERROR: 51.46666666666666\n",
            "Data Objects:\n",
            "('x1', [2, 10])\n",
            "('x2', [2, 5])\n",
            "('x3', [8, 4])\n",
            "('x4', [5, 8])\n",
            "('x5', [7, 5])\n",
            "('x6', [6, 4])\n",
            "('x7', [1, 2])\n",
            "('x8', [4, 9])\n",
            "Cluster 1: ['x1', 'x4', 'x8'] \n",
            "Cluster 2: ['x2', 'x3', 'x5', 'x6', 'x7']\n"
          ]
        }
      ]
    },
    {
      "cell_type": "code",
      "source": [
        "p=[model_3.pts[i] for i in model_3.c1]\n",
        "p2=[model_3.pts[i] for i in model_3.c2]\n",
        "x=[]\n",
        "y=[]\n",
        "for i in p:\n",
        "  x.append(i[0])\n",
        "  y.append(i[1])\n",
        "plt.scatter(x,y,c='b',label='Cluster 1')\n",
        "x=[]\n",
        "y=[]\n",
        "for i in p2:\n",
        "  x.append(i[0])\n",
        "  y.append(i[1])\n",
        "plt.scatter(x,y,c='r',label='Cluster 2')\n",
        "plt.legend()\n",
        "plt.show()"
      ],
      "metadata": {
        "colab": {
          "base_uri": "https://localhost:8080/",
          "height": 265
        },
        "id": "5f8wT_-a1gL-",
        "outputId": "b0a39443-a6a3-4966-a220-90e48a550b77"
      },
      "execution_count": 8,
      "outputs": [
        {
          "output_type": "display_data",
          "data": {
            "text/plain": [
              "<Figure size 432x288 with 1 Axes>"
            ],
            "image/png": "[encoded data removed]"
          },
          "metadata": {
            "needs_background": "light"
          }
        }
      ]
    },
    {
      "cell_type": "markdown",
      "source": [
        "**PROBLEM 4**"
      ],
      "metadata": {
        "id": "8Te7Dlp24VsR"
      }
    },
    {
      "cell_type": "code",
      "source": [
        "x1=[185,72]\n",
        "x2=[170,56]\n",
        "x3=[168,60]\n",
        "x4=[179,68]\n",
        "x5=[182,72]\n",
        "x6=[188,77]\n",
        "x7=[180,71]\n",
        "x8=[180,70]\n",
        "x9=[183,84]\n",
        "x10=[180,88]\n",
        "x11=[180,67]\n",
        "x12=[177,76]\n",
        "c1=[x1]\n",
        "c2=[x2]\n",
        "model_2=k_meanalg()\n",
        "model_2.fitting(c1,c2,x1,x2,x3,x4,x5,x6,x7,x8,x9,x10,x11,x12)\n",
        "print(\"Data Objects:\")\n",
        "for i in sorted(model_2.pts.items()):\n",
        "  print(i)\n",
        "model_2.display()"
      ],
      "metadata": {
        "colab": {
          "base_uri": "https://localhost:8080/"
        },
        "id": "2lWFwyy81o4r",
        "outputId": "4d564e84-0876-4491-e6a2-a09dc02b55be"
      },
      "execution_count": 9,
      "outputs": [
        {
          "output_type": "stream",
          "name": "stdout",
          "text": [
            "After Epoch 1  ERROR: 0.0\n",
            "After Epoch 2  ERROR: 526.9\n",
            "Data Objects:\n",
            "('x1', [185, 72])\n",
            "('x10', [180, 88])\n",
            "('x11', [180, 67])\n",
            "('x12', [177, 76])\n",
            "('x2', [170, 56])\n",
            "('x3', [168, 60])\n",
            "('x4', [179, 68])\n",
            "('x5', [182, 72])\n",
            "('x6', [188, 77])\n",
            "('x7', [180, 71])\n",
            "('x8', [180, 70])\n",
            "('x9', [183, 84])\n",
            "Cluster 1: ['x1', 'x4', 'x5', 'x6', 'x7', 'x8', 'x9', 'x10', 'x11', 'x12'] \n",
            "Cluster 2: ['x2', 'x3']\n"
          ]
        }
      ]
    },
    {
      "cell_type": "code",
      "source": [
        "p=[model_2.pts[i] for i in model_2.c1]\n",
        "p2=[model_2.pts[i] for i in model_2.c2]\n",
        "x=[]\n",
        "y=[]\n",
        "for i in p:\n",
        "  x.append(i[0])\n",
        "  y.append(i[1])\n",
        "plt.scatter(x,y,c='b',label='Cluster 1')\n",
        "x=[]\n",
        "y=[]\n",
        "for i in p2:\n",
        "  x.append(i[0])\n",
        "  y.append(i[1])\n",
        "plt.scatter(x,y,c='r',label='Cluster 2')\n",
        "plt.legend()\n",
        "plt.show()"
      ],
      "metadata": {
        "colab": {
          "base_uri": "https://localhost:8080/",
          "height": 265
        },
        "id": "BGtD83Rf4lo_",
        "outputId": "df2201d2-a1ae-4d3b-d84a-bed70bbf260a"
      },
      "execution_count": 10,
      "outputs": [
        {
          "output_type": "display_data",
          "data": {
            "text/plain": [
              "<Figure size 432x288 with 1 Axes>"
            ],
            "image/png": "[encoded data removed]"
          },
          "metadata": {
            "needs_background": "light"
          }
        }
      ]
    },
    {
      "cell_type": "code",
      "source": [
        ""
      ],
      "metadata": {
        "id": "KK5K43YY4yUL"
      },
      "execution_count": null,
      "outputs": []
    }
  ]
}